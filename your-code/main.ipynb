{
 "cells": [
  {
   "cell_type": "markdown",
   "metadata": {},
   "source": [
    "# Before your start:\n",
    "- Read the README.md file\n",
    "- Comment as much as you can and use the resources in the README.md file\n",
    "- Happy learning!"
   ]
  },
  {
   "cell_type": "code",
   "execution_count": 1,
   "metadata": {},
   "outputs": [],
   "source": [
    "# Import reduce from functools, numpy and pandas\n",
    "from functools import reduce\n",
    "import numpy as np\n",
    "import pandas as pd"
   ]
  },
  {
   "cell_type": "markdown",
   "metadata": {},
   "source": [
    "# Challenge 1 - Mapping\n",
    "\n",
    "#### We will use the map function to clean up words in a book.\n",
    "In the following cell, we will read a text file containing the book The Prophet by Khalil Gibran."
   ]
  },
  {
   "cell_type": "code",
   "execution_count": 2,
   "metadata": {},
   "outputs": [],
   "source": [
    "location = '../data/58585-0.txt'\n",
    "with open(location, 'r', encoding='utf8') as f:\n",
    "    prophet = f.read().split(' ')\n",
    "\n",
    "# Remove the first 568 words (metadata) \n",
    "prophet = prophet[568:]"
   ]
  },
  {
   "cell_type": "code",
   "execution_count": 3,
   "metadata": {},
   "outputs": [],
   "source": [
    "# Function to remove references\n",
    "def reference(x):\n",
    "    return x.split('{')[0]\n",
    "\n",
    "prophet_reference = list(map(reference, prophet))"
   ]
  },
  {
   "cell_type": "code",
   "execution_count": 4,
   "metadata": {},
   "outputs": [],
   "source": [
    "# Function to handle line breaks\n",
    "def line_break(x):\n",
    "    return x.split('\\n')\n",
    "\n",
    "prophet_line = list(map(line_break, prophet_reference))\n",
    "prophet_flat = [i for sub in prophet_line for i in sub]"
   ]
  },
  {
   "cell_type": "markdown",
   "metadata": {},
   "source": [
    "# Challenge 2 - Filtering\n",
    "Remove words like 'and', 'the', etc."
   ]
  },
  {
   "cell_type": "code",
   "execution_count": 5,
   "metadata": {},
   "outputs": [],
   "source": [
    "def word_filter(x):\n",
    "    word_list = ['and', 'the', 'a', 'an']\n",
    "    return x not in word_list\n",
    "\n",
    "prophet_filter = list(filter(word_filter, prophet_flat))"
   ]
  },
  {
   "cell_type": "code",
   "execution_count": 6,
   "metadata": {},
   "outputs": [],
   "source": [
    "# Bonus: case insensitive\n",
    "def word_filter_case(x):\n",
    "    word_list = ['and', 'the', 'a', 'an']\n",
    "    return x.lower() not in word_list"
   ]
  },
  {
   "cell_type": "markdown",
   "metadata": {},
   "source": [
    "# Challenge 3 - Reducing\n",
    "Concatenate all words into a single string."
   ]
  },
  {
   "cell_type": "code",
   "execution_count": 7,
   "metadata": {},
   "outputs": [],
   "source": [
    "def concat_space(a, b):\n",
    "    return a + ' ' + b\n",
    "\n",
    "prophet_string = reduce(concat_space, prophet_filter)"
   ]
  }
 ],
 "metadata": {
  "kernelspec": {
   "display_name": "Python 3 (ipykernel)",
   "language": "python",
   "name": "python3"
  },
  "language_info": {
   "name": "python",
   "version": "3.9.13"
  }
 },
 "nbformat": 4,
 "nbformat_minor": 2
}
